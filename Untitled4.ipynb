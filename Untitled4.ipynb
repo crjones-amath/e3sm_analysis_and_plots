{
 "cells": [
  {
   "cell_type": "code",
   "execution_count": 1,
   "metadata": {},
   "outputs": [],
   "source": [
    "%matplotlib inline\n",
    "import xarray as xr"
   ]
  },
  {
   "cell_type": "code",
   "execution_count": 2,
   "metadata": {},
   "outputs": [],
   "source": [
    "import pandas as pd"
   ]
  },
  {
   "cell_type": "code",
   "execution_count": 6,
   "metadata": {},
   "outputs": [],
   "source": [
    "from glob import glob"
   ]
  },
  {
   "cell_type": "code",
   "execution_count": 8,
   "metadata": {},
   "outputs": [],
   "source": [
    "def preprocess(ds):\n",
    "    return ds.sel(**central_us180)"
   ]
  },
  {
   "cell_type": "code",
   "execution_count": 2,
   "metadata": {},
   "outputs": [],
   "source": [
    "ds = xr.open_mfdataset('/global/cscratch1/sd/crjones/obs/gpm/2014/*.nc')"
   ]
  },
  {
   "cell_type": "code",
   "execution_count": 9,
   "metadata": {},
   "outputs": [
    {
     "name": "stdout",
     "output_type": "stream",
     "text": [
      "2016\n",
      "2014\n",
      "2015\n",
      "2017\n",
      "2018\n"
     ]
    }
   ],
   "source": [
    "topdir = '/global/cscratch1/sd/crjones/obs/gpm/'\n",
    "diurnal_cycle = {}\n",
    "for yr in [ '2016', '2014', '2015', '2017', '2018']:\n",
    "    print(yr)\n",
    "    ds = xr.open_mfdataset(topdir + yr + '/3B*.nc', preprocess=preprocess)\n",
    "    diurnal_cycle[yr] = ds['precipitationCal'].groupby('time.hour').mean(dim='time').load()"
   ]
  },
  {
   "cell_type": "code",
   "execution_count": 14,
   "metadata": {},
   "outputs": [],
   "source": [
    "# save outputs\n",
    "keys = sorted([key for key in diurnal_cycle.keys()])\n",
    "dsout = xr.concat([diurnal_cycle[k] for k in keys], dim=pd.Index(keys, name='year'))\n",
    "dsout.to_netcdf(topdir + 'gpm-MAM-diurnal.nc')"
   ]
  },
  {
   "cell_type": "code",
   "execution_count": 11,
   "metadata": {},
   "outputs": [
    {
     "data": {
      "text/plain": [
       "{'2016': <xarray.DataArray 'precipitationCal' (hour: 24, lon: 230, lat: 180)>\n",
       " array([[[0.060245, 0.082831, ..., 0.139374, 0.237763],\n",
       "         [0.110092, 0.073249, ..., 0.119468, 0.158688],\n",
       "         ...,\n",
       "         [0.080353, 0.105601, ..., 0.108388, 0.111653],\n",
       "         [0.074692, 0.107582, ..., 0.129454, 0.120857]],\n",
       " \n",
       "        [[0.080216, 0.102372, ..., 0.026519, 0.034939],\n",
       "         [0.12085 , 0.098908, ..., 0.019869, 0.03034 ],\n",
       "         ...,\n",
       "         [0.120116, 0.151994, ..., 0.077827, 0.067568],\n",
       "         [0.095037, 0.116156, ..., 0.067986, 0.077618]],\n",
       " \n",
       "        ...,\n",
       " \n",
       "        [[0.022483, 0.03735 , ..., 0.096138, 0.120273],\n",
       "         [0.015393, 0.006825, ..., 0.110871, 0.106921],\n",
       "         ...,\n",
       "         [0.143153, 0.413312, ..., 0.063834, 0.068246],\n",
       "         [0.172912, 0.248357, ..., 0.059021, 0.067516]],\n",
       " \n",
       "        [[0.04473 , 0.049907, ..., 0.156384, 0.136228],\n",
       "         [0.040774, 0.045026, ..., 0.132622, 0.179549],\n",
       "         ...,\n",
       "         [0.053635, 0.097838, ..., 0.070231, 0.074478],\n",
       "         [0.068649, 0.089827, ..., 0.072498, 0.064775]]])\n",
       " Coordinates:\n",
       "   * lat      (lat) float64 31.05 31.15 31.25 31.35 ... 48.65 48.75 48.85 48.95\n",
       "   * lon      (lon) float64 -103.9 -103.8 -103.8 -103.7 ... -81.25 -81.15 -81.05\n",
       "   * hour     (hour) int64 0 1 2 3 4 5 6 7 8 9 ... 14 15 16 17 18 19 20 21 22 23,\n",
       " '2014': <xarray.DataArray 'precipitationCal' (hour: 24, lon: 230, lat: 180)>\n",
       " array([[[0.010705, 0.009713, ..., 0.04417 , 0.042716],\n",
       "         [0.007486, 0.009111, ..., 0.051546, 0.063986],\n",
       "         ...,\n",
       "         [0.085945, 0.094509, ..., 0.075074, 0.088249],\n",
       "         [0.098241, 0.099794, ..., 0.084539, 0.057451]],\n",
       " \n",
       "        [[0.00643 , 0.007259, ..., 0.096181, 0.075159],\n",
       "         [0.005884, 0.007556, ..., 0.070527, 0.096915],\n",
       "         ...,\n",
       "         [0.082496, 0.078575, ..., 0.051755, 0.055879],\n",
       "         [0.074211, 0.077601, ..., 0.04599 , 0.049136]],\n",
       " \n",
       "        ...,\n",
       " \n",
       "        [[0.025829, 0.015568, ..., 0.129087, 0.138684],\n",
       "         [0.013591, 0.01206 , ..., 0.138223, 0.156608],\n",
       "         ...,\n",
       "         [0.08146 , 0.101144, ..., 0.085543, 0.094514],\n",
       "         [0.068986, 0.103534, ..., 0.078969, 0.078233]],\n",
       " \n",
       "        [[0.026903, 0.024779, ..., 0.045982, 0.052805],\n",
       "         [0.026288, 0.030463, ..., 0.056171, 0.046922],\n",
       "         ...,\n",
       "         [0.123061, 0.113462, ..., 0.081397, 0.068903],\n",
       "         [0.107566, 0.102796, ..., 0.071915, 0.055602]]], dtype=float32)\n",
       " Coordinates:\n",
       "   * lat      (lat) float32 31.05 31.15 31.25 31.35 ... 48.65 48.75 48.85 48.95\n",
       "   * lon      (lon) float32 -103.95 -103.85 -103.75 ... -81.25 -81.15 -81.05\n",
       "   * hour     (hour) int64 0 1 2 3 4 5 6 7 8 9 ... 14 15 16 17 18 19 20 21 22 23,\n",
       " '2015': <xarray.DataArray 'precipitationCal' (hour: 24, lon: 230, lat: 180)>\n",
       " array([[[0.095273, 0.097128, ..., 0.054616, 0.036923],\n",
       "         [0.090278, 0.057382, ..., 0.056102, 0.062313],\n",
       "         ...,\n",
       "         [0.323751, 0.320269, ..., 0.112607, 0.059181],\n",
       "         [0.211537, 0.248511, ..., 0.081043, 0.061669]],\n",
       " \n",
       "        [[0.112929, 0.062263, ..., 0.026727, 0.018642],\n",
       "         [0.097966, 0.0928  , ..., 0.02283 , 0.026114],\n",
       "         ...,\n",
       "         [0.282028, 0.146498, ..., 0.070871, 0.049343],\n",
       "         [0.152985, 0.175862, ..., 0.07359 , 0.050559]],\n",
       " \n",
       "        ...,\n",
       " \n",
       "        [[0.076189, 0.063026, ..., 0.062068, 0.065271],\n",
       "         [0.089854, 0.07985 , ..., 0.084453, 0.080944],\n",
       "         ...,\n",
       "         [0.307777, 0.477087, ..., 0.113584, 0.116152],\n",
       "         [0.209276, 0.340804, ..., 0.102379, 0.109425]],\n",
       " \n",
       "        [[0.122816, 0.096668, ..., 0.068258, 0.070885],\n",
       "         [0.102274, 0.064966, ..., 0.070623, 0.072204],\n",
       "         ...,\n",
       "         [0.313118, 0.290267, ..., 0.062639, 0.073652],\n",
       "         [0.270118, 0.271585, ..., 0.063718, 0.068608]]], dtype=float32)\n",
       " Coordinates:\n",
       "   * lat      (lat) float32 31.05 31.15 31.25 31.35 ... 48.65 48.75 48.85 48.95\n",
       "   * lon      (lon) float32 -103.95 -103.85 -103.75 ... -81.25 -81.15 -81.05\n",
       "   * hour     (hour) int64 0 1 2 3 4 5 6 7 8 9 ... 14 15 16 17 18 19 20 21 22 23,\n",
       " '2017': <xarray.DataArray 'precipitationCal' (hour: 24, lon: 230, lat: 180)>\n",
       " array([[[0.026522, 0.025837, ..., 0.058277, 0.0442  ],\n",
       "         [0.024977, 0.025379, ..., 0.061824, 0.048683],\n",
       "         ...,\n",
       "         [0.092009, 0.082581, ..., 0.03798 , 0.039439],\n",
       "         [0.129733, 0.121944, ..., 0.034259, 0.033649]],\n",
       " \n",
       "        [[0.027763, 0.02198 , ..., 0.045516, 0.048288],\n",
       "         [0.028488, 0.028109, ..., 0.051617, 0.053301],\n",
       "         ...,\n",
       "         [0.059117, 0.081965, ..., 0.087047, 0.071664],\n",
       "         [0.063002, 0.06826 , ..., 0.080237, 0.064438]],\n",
       " \n",
       "        ...,\n",
       " \n",
       "        [[0.019382, 0.014581, ..., 0.027527, 0.024679],\n",
       "         [0.026982, 0.028568, ..., 0.018149, 0.026427],\n",
       "         ...,\n",
       "         [0.286974, 0.278466, ..., 0.151937, 0.178949],\n",
       "         [0.319474, 0.291653, ..., 0.192369, 0.157216]],\n",
       " \n",
       "        [[0.016896, 0.015794, ..., 0.047083, 0.038957],\n",
       "         [0.019025, 0.018554, ..., 0.034399, 0.039735],\n",
       "         ...,\n",
       "         [0.210016, 0.142151, ..., 0.055881, 0.064711],\n",
       "         [0.254446, 0.214273, ..., 0.074799, 0.064299]]])\n",
       " Coordinates:\n",
       "   * lat      (lat) float64 31.05 31.15 31.25 31.35 ... 48.65 48.75 48.85 48.95\n",
       "   * lon      (lon) float64 -103.9 -103.8 -103.8 -103.7 ... -81.25 -81.15 -81.05\n",
       "   * hour     (hour) int64 0 1 2 3 4 5 6 7 8 9 ... 14 15 16 17 18 19 20 21 22 23,\n",
       " '2018': <xarray.DataArray 'precipitationCal' (hour: 24, lon: 230, lat: 180)>\n",
       " array([[[0.035116, 0.01663 , ..., 0.056852, 0.063968],\n",
       "         [0.043555, 0.094254, ..., 0.065756, 0.064084],\n",
       "         ...,\n",
       "         [0.149825, 0.125075, ..., 0.073467, 0.074674],\n",
       "         [0.160729, 0.161368, ..., 0.059158, 0.07001 ]],\n",
       " \n",
       "        [[0.008396, 0.011809, ..., 0.038939, 0.040272],\n",
       "         [0.013802, 0.011682, ..., 0.042456, 0.046132],\n",
       "         ...,\n",
       "         [0.187272, 0.191121, ..., 0.028922, 0.024702],\n",
       "         [0.21034 , 0.22553 , ..., 0.028711, 0.022015]],\n",
       " \n",
       "        ...,\n",
       " \n",
       "        [[0.217   , 0.020181, ..., 0.038061, 0.043829],\n",
       "         [0.221089, 0.221098, ..., 0.057722, 0.058783],\n",
       "         ...,\n",
       "         [0.286069, 0.299141, ..., 0.044822, 0.047749],\n",
       "         [0.218055, 0.187536, ..., 0.048993, 0.051709]],\n",
       " \n",
       "        [[0.105252, 0.02491 , ..., 0.0781  , 0.106997],\n",
       "         [0.119229, 0.138401, ..., 0.07094 , 0.088477],\n",
       "         ...,\n",
       "         [0.198045, 0.207088, ..., 0.064149, 0.051772],\n",
       "         [0.14943 , 0.176576, ..., 0.055601, 0.048431]]], dtype=float32)\n",
       " Coordinates:\n",
       "   * lat      (lat) float32 31.05 31.15 31.25 31.35 ... 48.65 48.75 48.85 48.95\n",
       "   * lon      (lon) float32 -103.95 -103.85 -103.75 ... -81.25 -81.15 -81.05\n",
       "   * hour     (hour) int64 0 1 2 3 4 5 6 7 8 9 ... 14 15 16 17 18 19 20 21 22 23}"
      ]
     },
     "execution_count": 11,
     "metadata": {},
     "output_type": "execute_result"
    }
   ],
   "source": [
    "diurnal_cycle"
   ]
  },
  {
   "cell_type": "code",
   "execution_count": 8,
   "metadata": {},
   "outputs": [
    {
     "data": {
      "text/plain": [
       "OrderedDict([('DimensionNames', 'time,lon,lat'),\n",
       "             ('Units', 'mm/hr'),\n",
       "             ('units', 'mm/hr'),\n",
       "             ('CodeMissingValue', '-9999.9'),\n",
       "             ('origname', 'precipitationCal'),\n",
       "             ('fullnamepath', '/Grid/precipitationCal')])"
      ]
     },
     "execution_count": 8,
     "metadata": {},
     "output_type": "execute_result"
    }
   ],
   "source": [
    "ds['precipitationCal'].attrs"
   ]
  },
  {
   "cell_type": "code",
   "execution_count": 4,
   "metadata": {},
   "outputs": [],
   "source": [
    "da = ds['precipitationCal'].groupby('time.hour').mean(dim='time').load()"
   ]
  },
  {
   "cell_type": "code",
   "execution_count": 7,
   "metadata": {},
   "outputs": [
    {
     "data": {
      "text/plain": [
       "[<matplotlib.lines.Line2D at 0x2aaae1f20b70>]"
      ]
     },
     "execution_count": 7,
     "metadata": {},
     "output_type": "execute_result"
    },
    {
     "data": {
      "image/png": "[encoded data removed]",
      "text/plain": [
       "<Figure size 432x288 with 1 Axes>"
      ]
     },
     "metadata": {
      "needs_background": "light"
     },
     "output_type": "display_data"
    }
   ],
   "source": [
    "(24 * da.mean(dim=['lon', 'lat'])).plot()"
   ]
  },
  {
   "cell_type": "markdown",
   "metadata": {},
   "source": [
    "# Test groupby_bins for e3sm grid"
   ]
  },
  {
   "cell_type": "code",
   "execution_count": null,
   "metadata": {},
   "outputs": [],
   "source": [
    "import numpy as np\n",
    "import xarray as xr"
   ]
  },
  {
   "cell_type": "code",
   "execution_count": 3,
   "metadata": {},
   "outputs": [],
   "source": [
    "ds = xr.open_dataset('/global/project/projectdirs/m3312/crjones/e3sm/earlyscience.FC5AV1C-L.ne30.sp1_64x1_1000m.20190415/earlyscience.FC5AV1C-L.ne30.sp1_64x1_1000m.20190415.cam.h0.0001-01.nc')"
   ]
  },
  {
   "cell_type": "code",
   "execution_count": 5,
   "metadata": {},
   "outputs": [],
   "source": [
    "lat = ds['lat']\n",
    "lon = ds['lon']\n",
    "da = ds['PRECC']"
   ]
  },
  {
   "cell_type": "code",
   "execution_count": 16,
   "metadata": {},
   "outputs": [
    {
     "data": {
      "text/plain": [
       "<xarray.DataArray 'PRECC' (time: 1, ncol_bins: 6)>\n",
       "array([[2.998036e-08, 3.231936e-08, 5.273935e-08, 4.100633e-08, 2.324814e-08,\n",
       "        2.564662e-08]], dtype=float32)\n",
       "Coordinates:\n",
       "  * ncol_bins  (ncol_bins) object (-60, -40] (-40, -20] ... (20, 40] (40, 60]\n",
       "  * time       (time) object 0001-02-01 00:00:00"
      ]
     },
     "execution_count": 16,
     "metadata": {},
     "output_type": "execute_result"
    }
   ],
   "source": [
    "# hacky way number 1:\n",
    "da.assign_coords(ncol=lat).groupby_bins('ncol', np.arange(-60, 80, 20)).mean(dim='ncol')"
   ]
  },
  {
   "cell_type": "code",
   "execution_count": 18,
   "metadata": {},
   "outputs": [
    {
     "data": {
      "text/plain": [
       "<xarray.DataArray 'PRECC' (time: 1, lat_bins: 6)>\n",
       "array([[2.998036e-08, 3.231936e-08, 5.273935e-08, 4.100633e-08, 2.324814e-08,\n",
       "        2.564662e-08]], dtype=float32)\n",
       "Coordinates:\n",
       "  * lat_bins  (lat_bins) object (-60, -40] (-40, -20] ... (20, 40] (40, 60]\n",
       "  * time      (time) object 0001-02-01 00:00:00"
      ]
     },
     "execution_count": 18,
     "metadata": {},
     "output_type": "execute_result"
    }
   ],
   "source": [
    "# hacky way number 2:\n",
    "ds.swap_dims({'ncol': 'lat'})['PRECC'].groupby_bins('lat', np.arange(-60, 80, 20)).mean(dim='lat')"
   ]
  },
  {
   "cell_type": "code",
   "execution_count": 19,
   "metadata": {},
   "outputs": [
    {
     "data": {
      "text/plain": [
       "array([[ True,  True,  True,  True,  True,  True]])"
      ]
     },
     "execution_count": 19,
     "metadata": {},
     "output_type": "execute_result"
    }
   ],
   "source": [
    "# verify these are the same\n",
    "hack1 = da.assign_coords(ncol=lat).groupby_bins('ncol', np.arange(-60, 80, 20)).mean(dim='ncol')\n",
    "hack2 = ds.swap_dims({'ncol': 'lat'})['PRECC'].groupby_bins('lat', np.arange(-60, 80, 20)).mean(dim='lat')\n",
    "\n",
    "hack1.values == hack2.values"
   ]
  },
  {
   "cell_type": "code",
   "execution_count": 15,
   "metadata": {},
   "outputs": [
    {
     "data": {
      "text/plain": [
       "<xarray.Dataset>\n",
       "Dimensions:          (ilev: 73, lat: 48602, lev: 72, nbnd: 2, time: 1)\n",
       "Coordinates:\n",
       "  * lat              (lat) float64 -35.26 -35.65 -36.26 ... 36.68 36.68 36.05\n",
       "  * lev              (lev) float64 0.1238 0.1828 0.2699 ... 986.2 993.8 998.5\n",
       "  * ilev             (ilev) float64 0.1 0.1477 0.218 ... 990.5 997.0 1e+03\n",
       "  * time             (time) object 0001-02-01 00:00:00\n",
       "Dimensions without coordinates: nbnd\n",
       "Data variables:\n",
       "    lon              (lat) float64 ...\n",
       "    area             (lat) float64 ...\n",
       "    hyam             (lev) float64 ...\n",
       "    hybm             (lev) float64 ...\n",
       "    P0               float64 ...\n",
       "    hyai             (ilev) float64 ...\n",
       "    hybi             (ilev) float64 ...\n",
       "    date             (time) int32 ...\n",
       "    datesec          (time) int32 ...\n",
       "    time_bnds        (time, nbnd) object ...\n",
       "    date_written     (time) |S8 ...\n",
       "    time_written     (time) |S8 ...\n",
       "    ndbase           int32 ...\n",
       "    nsbase           int32 ...\n",
       "    nbdate           int32 ...\n",
       "    nbsec            int32 ...\n",
       "    mdt              int32 ...\n",
       "    ndcur            (time) int32 ...\n",
       "    nscur            (time) int32 ...\n",
       "    co2vmr           (time) float64 ...\n",
       "    ch4vmr           (time) float64 ...\n",
       "    n2ovmr           (time) float64 ...\n",
       "    f11vmr           (time) float64 ...\n",
       "    f12vmr           (time) float64 ...\n",
       "    sol_tsi          (time) float64 ...\n",
       "    nsteph           (time) int32 ...\n",
       "    AEROD_v          (time, lat) float32 ...\n",
       "    ANRAIN           (time, lev, lat) float32 ...\n",
       "    ANSNOW           (time, lev, lat) float32 ...\n",
       "    AOD400           (time, lat) float32 ...\n",
       "    AOD700           (time, lat) float32 ...\n",
       "    AODABS           (time, lat) float32 ...\n",
       "    AODABSBC         (time, lat) float32 ...\n",
       "    AODBC            (time, lat) float32 ...\n",
       "    AODDUST          (time, lat) float32 ...\n",
       "    AODDUST1         (time, lat) float32 ...\n",
       "    AODDUST3         (time, lat) float32 ...\n",
       "    AODMODE1         (time, lat) float32 ...\n",
       "    AODMODE2         (time, lat) float32 ...\n",
       "    AODMODE3         (time, lat) float32 ...\n",
       "    AODNIR           (time, lat) float32 ...\n",
       "    AODPOM           (time, lat) float32 ...\n",
       "    AODSO4           (time, lat) float32 ...\n",
       "    AODSOA           (time, lat) float32 ...\n",
       "    AODSS            (time, lat) float32 ...\n",
       "    AODUV            (time, lat) float32 ...\n",
       "    AODVIS           (time, lat) float32 ...\n",
       "    AQRAIN           (time, lev, lat) float32 ...\n",
       "    AQSNOW           (time, lev, lat) float32 ...\n",
       "    AREI             (time, lev, lat) float32 ...\n",
       "    AREL             (time, lev, lat) float32 ...\n",
       "    AWNC             (time, lev, lat) float32 ...\n",
       "    AWNI             (time, lev, lat) float32 ...\n",
       "    CCN3             (time, lev, lat) float32 ...\n",
       "    CDNUMC           (time, lat) float32 ...\n",
       "    CLDHGH           (time, lat) float32 ...\n",
       "    CLDICE           (time, lev, lat) float32 ...\n",
       "    CLDLIQ           (time, lev, lat) float32 ...\n",
       "    CLDLOW           (time, lat) float32 ...\n",
       "    CLDMED           (time, lat) float32 ...\n",
       "    CLDTOT           (time, lat) float32 ...\n",
       "    CLOUD            (time, lev, lat) float32 ...\n",
       "    CLOUDTOP         (time, lev, lat) float32 ...\n",
       "    CONCLD           (time, lev, lat) float32 ...\n",
       "    DCQ              (time, lev, lat) float32 ...\n",
       "    DTCOND           (time, lev, lat) float32 ...\n",
       "    DTENDTH          (time, lat) float32 ...\n",
       "    DTENDTQ          (time, lat) float32 ...\n",
       "    DTV              (time, lev, lat) float32 ...\n",
       "    EXTINCT          (time, lev, lat) float32 ...\n",
       "    FICE             (time, lev, lat) float32 ...\n",
       "    FLDS             (time, lat) float32 ...\n",
       "    FLNS             (time, lat) float32 ...\n",
       "    FLNSC            (time, lat) float32 ...\n",
       "    FLNT             (time, lat) float32 ...\n",
       "    FLNTC            (time, lat) float32 ...\n",
       "    FLUT             (time, lat) float32 ...\n",
       "    FLUTC            (time, lat) float32 ...\n",
       "    FREQI            (time, lev, lat) float32 ...\n",
       "    FREQL            (time, lev, lat) float32 ...\n",
       "    FREQR            (time, lev, lat) float32 ...\n",
       "    FREQS            (time, lev, lat) float32 ...\n",
       "    FSDS             (time, lat) float32 ...\n",
       "    FSDSC            (time, lat) float32 ...\n",
       "    FSNS             (time, lat) float32 ...\n",
       "    FSNSC            (time, lat) float32 ...\n",
       "    FSNT             (time, lat) float32 ...\n",
       "    FSNTC            (time, lat) float32 ...\n",
       "    FSNTOA           (time, lat) float32 ...\n",
       "    FSNTOAC          (time, lat) float32 ...\n",
       "    FSUTOA           (time, lat) float32 ...\n",
       "    FSUTOAC          (time, lat) float32 ...\n",
       "    ICEFRAC          (time, lat) float32 ...\n",
       "    ICIMR            (time, lev, lat) float32 ...\n",
       "    ICWMR            (time, lev, lat) float32 ...\n",
       "    IWC              (time, lev, lat) float32 ...\n",
       "    LANDFRAC         (time, lat) float32 ...\n",
       "    LHFLX            (time, lat) float32 ...\n",
       "    LIQCLDF          (time, lev, lat) float32 ...\n",
       "    LWCF             (time, lat) float32 ...\n",
       "    NUMICE           (time, lev, lat) float32 ...\n",
       "    NUMLIQ           (time, lev, lat) float32 ...\n",
       "    NUMRAI           (time, lev, lat) float32 ...\n",
       "    NUMSNO           (time, lev, lat) float32 ...\n",
       "    OCNFRAC          (time, lat) float32 ...\n",
       "    OMEGA            (time, lev, lat) float32 ...\n",
       "    OMEGA500         (time, lat) float32 ...\n",
       "    OMEGAT           (time, lev, lat) float32 ...\n",
       "    PBLH             (time, lat) float32 ...\n",
       "    PHIS             (time, lat) float32 ...\n",
       "    PRECC            (time, lat) float32 5.272226e-08 ... 5.5905e-08\n",
       "    PRECL            (time, lat) float32 ...\n",
       "    PRECSC           (time, lat) float32 ...\n",
       "    PRECSL           (time, lat) float32 ...\n",
       "    PS               (time, lat) float32 ...\n",
       "    PSL              (time, lat) float32 ...\n",
       "    Q                (time, lev, lat) float32 ...\n",
       "    QFLX             (time, lat) float32 ...\n",
       "    QREFHT           (time, lat) float32 ...\n",
       "    QRL              (time, lev, lat) float32 ...\n",
       "    QRS              (time, lev, lat) float32 ...\n",
       "    RAINQM           (time, lev, lat) float32 ...\n",
       "    RELHUM           (time, lev, lat) float32 ...\n",
       "    SHFLX            (time, lat) float32 ...\n",
       "    SNOWHICE         (time, lat) float32 ...\n",
       "    SNOWHLND         (time, lat) float32 ...\n",
       "    SNOWQM           (time, lev, lat) float32 ...\n",
       "    SOLIN            (time, lat) float32 ...\n",
       "    SPBUOY           (time, lev, lat) float32 ...\n",
       "    SPBUOYSD         (time, lev, lat) float32 ...\n",
       "    SPDQ             (time, lev, lat) float32 ...\n",
       "    SPDQC            (time, lev, lat) float32 ...\n",
       "    SPDQI            (time, lev, lat) float32 ...\n",
       "    SPDT             (time, lev, lat) float32 ...\n",
       "    SPKVH            (time, ilev, lat) float32 ...\n",
       "    SPLCLOUD         (time, lev, lat) float32 ...\n",
       "    SPMC             (time, lev, lat) float32 ...\n",
       "    SPMCDN           (time, lev, lat) float32 ...\n",
       "    SPMCUDN          (time, lev, lat) float32 ...\n",
       "    SPMCUP           (time, lev, lat) float32 ...\n",
       "    SPMCUUP          (time, lev, lat) float32 ...\n",
       "    SPMSEF           (time, lev, lat) float32 ...\n",
       "    SPNDROPCOL       (time, lat) float32 ...\n",
       "    SPNDROPMIX       (time, lev, lat) float32 ...\n",
       "    SPNDROPSRC       (time, lev, lat) float32 ...\n",
       "    SPPFLX           (time, lev, lat) float32 ...\n",
       "    SPQC             (time, lev, lat) float32 ...\n",
       "    SPQG             (time, lev, lat) float32 ...\n",
       "    SPQI             (time, lev, lat) float32 ...\n",
       "    SPQPEVP          (time, lev, lat) float32 ...\n",
       "    SPQPFALL         (time, lev, lat) float32 ...\n",
       "    SPQPFLX          (time, lev, lat) float32 ...\n",
       "    SPQPSRC          (time, lev, lat) float32 ...\n",
       "    SPQPTR           (time, lev, lat) float32 ...\n",
       "    SPQR             (time, lev, lat) float32 ...\n",
       "    SPQS             (time, lev, lat) float32 ...\n",
       "    SPQTFLX          (time, lev, lat) float32 ...\n",
       "    SPQTFLXS         (time, lev, lat) float32 ...\n",
       "    SPQTLS           (time, lev, lat) float32 ...\n",
       "    SPQTTR           (time, lev, lat) float32 ...\n",
       "    SPQVFLUX         (time, lev, lat) float32 ...\n",
       "    SPTK             (time, lev, lat) float32 ...\n",
       "    SPTKE            (time, lev, lat) float32 ...\n",
       "    SPTKES           (time, lev, lat) float32 ...\n",
       "    SPTLS            (time, lev, lat) float32 ...\n",
       "    SPTVFLUX         (time, lev, lat) float32 ...\n",
       "    SPWTKE           (time, lev, lat) float32 ...\n",
       "    SSAVIS           (time, lat) float32 ...\n",
       "    SWCF             (time, lat) float32 ...\n",
       "    T                (time, lev, lat) float32 ...\n",
       "    TAUGWX           (time, lat) float32 ...\n",
       "    TAUGWY           (time, lat) float32 ...\n",
       "    TAUX             (time, lat) float32 ...\n",
       "    TAUY             (time, lat) float32 ...\n",
       "    TGCLDCWP         (time, lat) float32 ...\n",
       "    TGCLDIWP         (time, lat) float32 ...\n",
       "    TGCLDLWP         (time, lat) float32 ...\n",
       "    TH7001000        (time, lat) float32 ...\n",
       "    TIMINGF          (time, lat) float32 ...\n",
       "    TMQ              (time, lat) float32 ...\n",
       "    TOT_CLD_VISTAU   (time, lev, lat) float32 ...\n",
       "    TOT_ICLD_VISTAU  (time, lev, lat) float32 ...\n",
       "    TREFHT           (time, lat) float32 ...\n",
       "    TROP_P           (time, lat) float32 ...\n",
       "    TROP_T           (time, lat) float32 ...\n",
       "    TS               (time, lat) float32 ...\n",
       "    TSMN             (time, lat) float32 ...\n",
       "    TSMX             (time, lat) float32 ...\n",
       "    TUH              (time, lat) float32 ...\n",
       "    TUQ              (time, lat) float32 ...\n",
       "    TVH              (time, lat) float32 ...\n",
       "    TVQ              (time, lat) float32 ...\n",
       "    U                (time, lev, lat) float32 ...\n",
       "    U10              (time, lat) float32 ...\n",
       "    UU               (time, lev, lat) float32 ...\n",
       "    V                (time, lev, lat) float32 ...\n",
       "    VD01             (time, lev, lat) float32 ...\n",
       "    VQ               (time, lev, lat) float32 ...\n",
       "    VT               (time, lev, lat) float32 ...\n",
       "    VU               (time, lev, lat) float32 ...\n",
       "    VV               (time, lev, lat) float32 ...\n",
       "    WGUSTD           (time, lat) float32 ...\n",
       "    WSUB             (time, lev, lat) float32 ...\n",
       "    Z3               (time, lev, lat) float32 ...\n",
       "    aero_water       (time, lev, lat) float32 ...\n",
       "    hstobie_linoz    (time, lev, lat) float32 ...\n",
       "Attributes:\n",
       "    ne:                30\n",
       "    np:                4\n",
       "    Conventions:       CF-1.0\n",
       "    source:            CAM\n",
       "    case:              earlyscience.FC5AV1C-L.ne30.sp1_64x1_1000m.20190415\n",
       "    title:             UNSET\n",
       "    logname:           crjones\n",
       "    host:              \n",
       "    Version:           $Name$\n",
       "    revision_Id:       $Id$\n",
       "    initial_file:      /gpfs/alpine/world-shared/csc190/e3sm/cesm/inputdata/a...\n",
       "    topography_file:   /gpfs/alpine/world-shared/csc190/e3sm/cesm/inputdata/a...\n",
       "    time_period_freq:  month_1"
      ]
     },
     "execution_count": 15,
     "metadata": {},
     "output_type": "execute_result"
    }
   ],
   "source": [
    "ds.swap_dims({'ncol': 'lat'})"
   ]
  },
  {
   "cell_type": "code",
   "execution_count": 14,
   "metadata": {},
   "outputs": [
    {
     "ename": "KeyError",
     "evalue": "'lat'",
     "output_type": "error",
     "traceback": [
      "\u001b[0;31m---------------------------------------------------------------------------\u001b[0m",
      "\u001b[0;31mKeyError\u001b[0m                                  Traceback (most recent call last)",
      "\u001b[0;32m<ipython-input-14-693b5cece419>\u001b[0m in \u001b[0;36m<module>\u001b[0;34m\u001b[0m\n\u001b[0;32m----> 1\u001b[0;31m \u001b[0mda\u001b[0m\u001b[0;34m.\u001b[0m\u001b[0mswap_dims\u001b[0m\u001b[0;34m(\u001b[0m\u001b[0;34m{\u001b[0m\u001b[0;34m'ncol'\u001b[0m\u001b[0;34m:\u001b[0m \u001b[0;34m'lat'\u001b[0m\u001b[0;34m}\u001b[0m\u001b[0;34m)\u001b[0m\u001b[0;34m\u001b[0m\u001b[0;34m\u001b[0m\u001b[0m\n\u001b[0m",
      "\u001b[0;32m~/.conda/envs/spe3sm_env/lib/python3.7/site-packages/xarray/core/dataarray.py\u001b[0m in \u001b[0;36mswap_dims\u001b[0;34m(self, dims_dict)\u001b[0m\n\u001b[1;32m   1134\u001b[0m         \u001b[0mDataset\u001b[0m\u001b[0;34m.\u001b[0m\u001b[0mswap_dims\u001b[0m\u001b[0;34m\u001b[0m\u001b[0;34m\u001b[0m\u001b[0m\n\u001b[1;32m   1135\u001b[0m         \"\"\"\n\u001b[0;32m-> 1136\u001b[0;31m         \u001b[0mds\u001b[0m \u001b[0;34m=\u001b[0m \u001b[0mself\u001b[0m\u001b[0;34m.\u001b[0m\u001b[0m_to_temp_dataset\u001b[0m\u001b[0;34m(\u001b[0m\u001b[0;34m)\u001b[0m\u001b[0;34m.\u001b[0m\u001b[0mswap_dims\u001b[0m\u001b[0;34m(\u001b[0m\u001b[0mdims_dict\u001b[0m\u001b[0;34m)\u001b[0m\u001b[0;34m\u001b[0m\u001b[0;34m\u001b[0m\u001b[0m\n\u001b[0m\u001b[1;32m   1137\u001b[0m         \u001b[0;32mreturn\u001b[0m \u001b[0mself\u001b[0m\u001b[0;34m.\u001b[0m\u001b[0m_from_temp_dataset\u001b[0m\u001b[0;34m(\u001b[0m\u001b[0mds\u001b[0m\u001b[0;34m)\u001b[0m\u001b[0;34m\u001b[0m\u001b[0;34m\u001b[0m\u001b[0m\n\u001b[1;32m   1138\u001b[0m \u001b[0;34m\u001b[0m\u001b[0m\n",
      "\u001b[0;32m~/.conda/envs/spe3sm_env/lib/python3.7/site-packages/xarray/core/dataset.py\u001b[0m in \u001b[0;36mswap_dims\u001b[0;34m(self, dims_dict, inplace)\u001b[0m\n\u001b[1;32m   2312\u001b[0m                 raise ValueError('cannot swap from dimension %r because it is '\n\u001b[1;32m   2313\u001b[0m                                  'not an existing dimension' % k)\n\u001b[0;32m-> 2314\u001b[0;31m             \u001b[0;32mif\u001b[0m \u001b[0mself\u001b[0m\u001b[0;34m.\u001b[0m\u001b[0mvariables\u001b[0m\u001b[0;34m[\u001b[0m\u001b[0mv\u001b[0m\u001b[0;34m]\u001b[0m\u001b[0;34m.\u001b[0m\u001b[0mdims\u001b[0m \u001b[0;34m!=\u001b[0m \u001b[0;34m(\u001b[0m\u001b[0mk\u001b[0m\u001b[0;34m,\u001b[0m\u001b[0;34m)\u001b[0m\u001b[0;34m:\u001b[0m\u001b[0;34m\u001b[0m\u001b[0;34m\u001b[0m\u001b[0m\n\u001b[0m\u001b[1;32m   2315\u001b[0m                 raise ValueError('replacement dimension %r is not a 1D '\n\u001b[1;32m   2316\u001b[0m                                  \u001b[0;34m'variable along the old dimension %r'\u001b[0m\u001b[0;34m\u001b[0m\u001b[0;34m\u001b[0m\u001b[0m\n",
      "\u001b[0;32m~/.conda/envs/spe3sm_env/lib/python3.7/site-packages/xarray/core/utils.py\u001b[0m in \u001b[0;36m__getitem__\u001b[0;34m(self, key)\u001b[0m\n\u001b[1;32m    314\u001b[0m \u001b[0;34m\u001b[0m\u001b[0m\n\u001b[1;32m    315\u001b[0m     \u001b[0;32mdef\u001b[0m \u001b[0m__getitem__\u001b[0m\u001b[0;34m(\u001b[0m\u001b[0mself\u001b[0m\u001b[0;34m,\u001b[0m \u001b[0mkey\u001b[0m\u001b[0;34m)\u001b[0m\u001b[0;34m:\u001b[0m\u001b[0;34m\u001b[0m\u001b[0;34m\u001b[0m\u001b[0m\n\u001b[0;32m--> 316\u001b[0;31m         \u001b[0;32mreturn\u001b[0m \u001b[0mself\u001b[0m\u001b[0;34m.\u001b[0m\u001b[0mmapping\u001b[0m\u001b[0;34m[\u001b[0m\u001b[0mkey\u001b[0m\u001b[0;34m]\u001b[0m\u001b[0;34m\u001b[0m\u001b[0;34m\u001b[0m\u001b[0m\n\u001b[0m\u001b[1;32m    317\u001b[0m \u001b[0;34m\u001b[0m\u001b[0m\n\u001b[1;32m    318\u001b[0m     \u001b[0;32mdef\u001b[0m \u001b[0m__iter__\u001b[0m\u001b[0;34m(\u001b[0m\u001b[0mself\u001b[0m\u001b[0;34m)\u001b[0m\u001b[0;34m:\u001b[0m\u001b[0;34m\u001b[0m\u001b[0;34m\u001b[0m\u001b[0m\n",
      "\u001b[0;31mKeyError\u001b[0m: 'lat'"
     ]
    }
   ],
   "source": [
    "da.swap_dims({'ncol': 'lat'})"
   ]
  },
  {
   "cell_type": "code",
   "execution_count": 10,
   "metadata": {},
   "outputs": [],
   "source": [
    "import numpy as np"
   ]
  },
  {
   "cell_type": "code",
   "execution_count": 13,
   "metadata": {},
   "outputs": [
    {
     "data": {
      "text/plain": [
       "<xarray.DataArray 'PRECC' (time: 1, ncol_bins: 6)>\n",
       "array([[2.998036e-08, 3.231936e-08, 5.273935e-08, 4.100633e-08, 2.324814e-08,\n",
       "        2.564662e-08]], dtype=float32)\n",
       "Coordinates:\n",
       "  * ncol_bins  (ncol_bins) object (-60, -40] (-40, -20] ... (20, 40] (40, 60]\n",
       "  * time       (time) object 0001-02-01 00:00:00"
      ]
     },
     "execution_count": 13,
     "metadata": {},
     "output_type": "execute_result"
    }
   ],
   "source": [
    "da.assign_coords(ncol=lat).groupby_bins('ncol', np.arange(-60, 80, 20)).mean(dim='ncol')"
   ]
  },
  {
   "cell_type": "code",
   "execution_count": 8,
   "metadata": {},
   "outputs": [
    {
     "data": {
      "text/plain": [
       "<xarray.DataArray 'ncol' (ncol: 48602)>\n",
       "array([    0,     1,     2, ..., 48599, 48600, 48601])\n",
       "Dimensions without coordinates: ncol"
      ]
     },
     "execution_count": 8,
     "metadata": {},
     "output_type": "execute_result"
    }
   ],
   "source": [
    "da.ncol"
   ]
  },
  {
   "cell_type": "code",
   "execution_count": 21,
   "metadata": {},
   "outputs": [
    {
     "data": {
      "text/plain": [
       "<xarray.DataArray 'time' (time: 1)>\n",
       "array([0], dtype='timedelta64[ns]')\n",
       "Coordinates:\n",
       "  * time     (time) object 0001-02-01 00:00:00"
      ]
     },
     "execution_count": 21,
     "metadata": {},
     "output_type": "execute_result"
    }
   ],
   "source": [
    "da.time - da.time[0]"
   ]
  },
  {
   "cell_type": "code",
   "execution_count": 22,
   "metadata": {},
   "outputs": [],
   "source": [
    "import pandas as pd"
   ]
  },
  {
   "cell_type": "code",
   "execution_count": 35,
   "metadata": {},
   "outputs": [
    {
     "data": {
      "text/plain": [
       "<xarray.DataArray 'dayofyear' (time: 1)>\n",
       "array([10.666667])\n",
       "Coordinates:\n",
       "  * time     (time) object 0001-02-01 00:00:00"
      ]
     },
     "execution_count": 35,
     "metadata": {},
     "output_type": "execute_result"
    }
   ],
   "source": [
    "da['time.dayofyear'] / 3"
   ]
  },
  {
   "cell_type": "code",
   "execution_count": null,
   "metadata": {},
   "outputs": [],
   "source": []
  }
 ],
 "metadata": {
  "kernelspec": {
   "display_name": "spe3sm-jupyter",
   "language": "python",
   "name": "spe3sm-jupyter"
  },
  "language_info": {
   "codemirror_mode": {
    "name": "ipython",
    "version": 3
   },
   "file_extension": ".py",
   "mimetype": "text/x-python",
   "name": "python",
   "nbconvert_exporter": "python",
   "pygments_lexer": "ipython3",
   "version": "3.7.1"
  }
 },
 "nbformat": 4,
 "nbformat_minor": 4
}
