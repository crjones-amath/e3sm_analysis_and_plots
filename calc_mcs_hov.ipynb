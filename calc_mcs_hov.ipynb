{
 "cells": [
  {
   "cell_type": "markdown",
   "metadata": {},
   "source": [
    "# Process for Hovmoller diagrams\n",
    "Adapted from `calc_mcs_hov_monthly.py`, provided by Zhe Feng"
   ]
  },
  {
   "cell_type": "code",
   "execution_count": 61,
   "metadata": {},
   "outputs": [],
   "source": [
    "%matplotlib inline\n",
    "import matplotlib.pyplot as plt\n",
    "import numpy as np\n",
    "import xarray as xr\n",
    "from glob import glob\n",
    "import os\n",
    "import itertools"
   ]
  },
  {
   "cell_type": "code",
   "execution_count": 63,
   "metadata": {},
   "outputs": [],
   "source": [
    "do_overwrite = False"
   ]
  },
  {
   "cell_type": "code",
   "execution_count": 76,
   "metadata": {},
   "outputs": [
    {
     "name": "stdout",
     "output_type": "stream",
     "text": [
      "/global/cscratch1/sd/crjones/ECP/e3sm/\n",
      "/global/cscratch1/sd/crjones/ECP/e3sm/mcstracking_ccs3e4/\n",
      "/global/cscratch1/sd/crjones/ECP/e3sm/statstb_ccs3e4/\n",
      "/global/cscratch1/sd/crjones/ECP/e3sm/mcstracking_ccs3e4/20010301_20011031\n",
      "/global/cscratch1/sd/crjones/ECP/e3sm/mcstracking_ccs3e4/20020301_20021031\n",
      "/global/cscratch1/sd/crjones/ECP/e3sm/mcstracking_ccs3e4/20030301_20031031\n",
      "['2001', '2002', '2003']\n"
     ]
    }
   ],
   "source": [
    "run_name = 'e3sm'\n",
    "test_suff = '_ccs3e4'\n",
    "root_dir = f'/global/cscratch1/sd/crjones/ECP/{run_name}/'\n",
    "print(root_dir)\n",
    "mcs_dir = f'{root_dir}mcstracking{test_suff}/'\n",
    "out_dir = f'{root_dir}statstb{test_suff}/'\n",
    "\n",
    "print(mcs_dir)\n",
    "print(out_dir)\n",
    "glob(root_dir + '*')\n",
    "glob(mcs_dir + '*')\n",
    "glob(out_dir + '*')\n",
    "print(*sorted(glob(mcs_dir+'*')), sep='\\n')\n",
    "\n",
    "# Hovmoller domain\n",
    "startlat = 31.0\n",
    "endlat = 48.0\n",
    "startlon = -110.0\n",
    "endlon = -80.0\n",
    "\n",
    "if not os.path.exists(out_dir):\n",
    "    os.makedirs(out_dir, exist_ok=True)\n",
    "years = sorted([fname.split('_')[-1][:4] for fname in glob(mcs_dir + '*')])\n",
    "print(years)"
   ]
  },
  {
   "cell_type": "code",
   "execution_count": 68,
   "metadata": {},
   "outputs": [],
   "source": [
    "# loop through this biz:\n",
    "# years = ['2001', '2002', '2003', '2004', '2005', '2006', '2007']\n",
    "months = ['03', '04', '05', '06', '07', '08']"
   ]
  },
  {
   "cell_type": "code",
   "execution_count": null,
   "metadata": {},
   "outputs": [
    {
     "name": "stdout",
     "output_type": "stream",
     "text": [
      "2001 03\n",
      "/global/cscratch1/sd/crjones/ECP/e3sm/statstb_ccs3e4/mcs_rainhov_200103.nc\n",
      "Finished reading input files.\n"
     ]
    },
    {
     "name": "stderr",
     "output_type": "stream",
     "text": [
      "/global/homes/c/crjones/.conda/envs/spe3sm_env/lib/python3.7/site-packages/dask/core.py:137: RuntimeWarning: invalid value encountered in greater\n",
      "  return func(*args2)\n"
     ]
    },
    {
     "name": "stdout",
     "output_type": "stream",
     "text": [
      "Hovmoller output saved as:  /global/cscratch1/sd/crjones/ECP/e3sm/statstb_ccs3e4/mcs_rainhov_200103.nc\n",
      "2001 04\n",
      "/global/cscratch1/sd/crjones/ECP/e3sm/statstb_ccs3e4/mcs_rainhov_200104.nc\n",
      "Finished reading input files.\n"
     ]
    },
    {
     "name": "stderr",
     "output_type": "stream",
     "text": [
      "/global/homes/c/crjones/.conda/envs/spe3sm_env/lib/python3.7/site-packages/dask/core.py:137: RuntimeWarning: invalid value encountered in greater\n",
      "  return func(*args2)\n"
     ]
    },
    {
     "name": "stdout",
     "output_type": "stream",
     "text": [
      "Hovmoller output saved as:  /global/cscratch1/sd/crjones/ECP/e3sm/statstb_ccs3e4/mcs_rainhov_200104.nc\n",
      "2001 05\n",
      "/global/cscratch1/sd/crjones/ECP/e3sm/statstb_ccs3e4/mcs_rainhov_200105.nc\n",
      "Finished reading input files.\n"
     ]
    },
    {
     "name": "stderr",
     "output_type": "stream",
     "text": [
      "/global/homes/c/crjones/.conda/envs/spe3sm_env/lib/python3.7/site-packages/dask/core.py:137: RuntimeWarning: invalid value encountered in greater\n",
      "  return func(*args2)\n"
     ]
    },
    {
     "name": "stdout",
     "output_type": "stream",
     "text": [
      "Hovmoller output saved as:  /global/cscratch1/sd/crjones/ECP/e3sm/statstb_ccs3e4/mcs_rainhov_200105.nc\n",
      "2001 06\n",
      "/global/cscratch1/sd/crjones/ECP/e3sm/statstb_ccs3e4/mcs_rainhov_200106.nc\n",
      "Finished reading input files.\n"
     ]
    },
    {
     "name": "stderr",
     "output_type": "stream",
     "text": [
      "/global/homes/c/crjones/.conda/envs/spe3sm_env/lib/python3.7/site-packages/dask/core.py:137: RuntimeWarning: invalid value encountered in greater\n",
      "  return func(*args2)\n"
     ]
    },
    {
     "name": "stdout",
     "output_type": "stream",
     "text": [
      "Hovmoller output saved as:  /global/cscratch1/sd/crjones/ECP/e3sm/statstb_ccs3e4/mcs_rainhov_200106.nc\n",
      "2001 07\n",
      "/global/cscratch1/sd/crjones/ECP/e3sm/statstb_ccs3e4/mcs_rainhov_200107.nc\n",
      "Finished reading input files.\n"
     ]
    },
    {
     "name": "stderr",
     "output_type": "stream",
     "text": [
      "/global/homes/c/crjones/.conda/envs/spe3sm_env/lib/python3.7/site-packages/dask/core.py:137: RuntimeWarning: invalid value encountered in greater\n",
      "  return func(*args2)\n"
     ]
    },
    {
     "name": "stdout",
     "output_type": "stream",
     "text": [
      "Hovmoller output saved as:  /global/cscratch1/sd/crjones/ECP/e3sm/statstb_ccs3e4/mcs_rainhov_200107.nc\n",
      "2001 08\n",
      "/global/cscratch1/sd/crjones/ECP/e3sm/statstb_ccs3e4/mcs_rainhov_200108.nc\n",
      "Finished reading input files.\n"
     ]
    },
    {
     "name": "stderr",
     "output_type": "stream",
     "text": [
      "/global/homes/c/crjones/.conda/envs/spe3sm_env/lib/python3.7/site-packages/dask/core.py:137: RuntimeWarning: invalid value encountered in greater\n",
      "  return func(*args2)\n"
     ]
    },
    {
     "name": "stdout",
     "output_type": "stream",
     "text": [
      "Hovmoller output saved as:  /global/cscratch1/sd/crjones/ECP/e3sm/statstb_ccs3e4/mcs_rainhov_200108.nc\n",
      "2002 03\n",
      "/global/cscratch1/sd/crjones/ECP/e3sm/statstb_ccs3e4/mcs_rainhov_200203.nc\n",
      "Finished reading input files.\n"
     ]
    },
    {
     "name": "stderr",
     "output_type": "stream",
     "text": [
      "/global/homes/c/crjones/.conda/envs/spe3sm_env/lib/python3.7/site-packages/dask/core.py:137: RuntimeWarning: invalid value encountered in greater\n",
      "  return func(*args2)\n"
     ]
    },
    {
     "name": "stdout",
     "output_type": "stream",
     "text": [
      "Hovmoller output saved as:  /global/cscratch1/sd/crjones/ECP/e3sm/statstb_ccs3e4/mcs_rainhov_200203.nc\n",
      "2002 04\n",
      "/global/cscratch1/sd/crjones/ECP/e3sm/statstb_ccs3e4/mcs_rainhov_200204.nc\n",
      "Finished reading input files.\n"
     ]
    },
    {
     "name": "stderr",
     "output_type": "stream",
     "text": [
      "/global/homes/c/crjones/.conda/envs/spe3sm_env/lib/python3.7/site-packages/dask/core.py:137: RuntimeWarning: invalid value encountered in greater\n",
      "  return func(*args2)\n"
     ]
    },
    {
     "name": "stdout",
     "output_type": "stream",
     "text": [
      "Hovmoller output saved as:  /global/cscratch1/sd/crjones/ECP/e3sm/statstb_ccs3e4/mcs_rainhov_200204.nc\n",
      "2002 05\n",
      "/global/cscratch1/sd/crjones/ECP/e3sm/statstb_ccs3e4/mcs_rainhov_200205.nc\n",
      "Finished reading input files.\n"
     ]
    },
    {
     "name": "stderr",
     "output_type": "stream",
     "text": [
      "/global/homes/c/crjones/.conda/envs/spe3sm_env/lib/python3.7/site-packages/dask/core.py:137: RuntimeWarning: invalid value encountered in greater\n",
      "  return func(*args2)\n"
     ]
    },
    {
     "name": "stdout",
     "output_type": "stream",
     "text": [
      "Hovmoller output saved as:  /global/cscratch1/sd/crjones/ECP/e3sm/statstb_ccs3e4/mcs_rainhov_200205.nc\n",
      "2002 06\n",
      "/global/cscratch1/sd/crjones/ECP/e3sm/statstb_ccs3e4/mcs_rainhov_200206.nc\n",
      "Finished reading input files.\n"
     ]
    },
    {
     "name": "stderr",
     "output_type": "stream",
     "text": [
      "/global/homes/c/crjones/.conda/envs/spe3sm_env/lib/python3.7/site-packages/dask/core.py:137: RuntimeWarning: invalid value encountered in greater\n",
      "  return func(*args2)\n"
     ]
    },
    {
     "name": "stdout",
     "output_type": "stream",
     "text": [
      "Hovmoller output saved as:  /global/cscratch1/sd/crjones/ECP/e3sm/statstb_ccs3e4/mcs_rainhov_200206.nc\n",
      "2002 07\n",
      "/global/cscratch1/sd/crjones/ECP/e3sm/statstb_ccs3e4/mcs_rainhov_200207.nc\n",
      "Finished reading input files.\n"
     ]
    },
    {
     "name": "stderr",
     "output_type": "stream",
     "text": [
      "/global/homes/c/crjones/.conda/envs/spe3sm_env/lib/python3.7/site-packages/dask/core.py:137: RuntimeWarning: invalid value encountered in greater\n",
      "  return func(*args2)\n"
     ]
    },
    {
     "name": "stdout",
     "output_type": "stream",
     "text": [
      "Hovmoller output saved as:  /global/cscratch1/sd/crjones/ECP/e3sm/statstb_ccs3e4/mcs_rainhov_200207.nc\n",
      "2002 08\n",
      "/global/cscratch1/sd/crjones/ECP/e3sm/statstb_ccs3e4/mcs_rainhov_200208.nc\n",
      "Finished reading input files.\n"
     ]
    },
    {
     "name": "stderr",
     "output_type": "stream",
     "text": [
      "/global/homes/c/crjones/.conda/envs/spe3sm_env/lib/python3.7/site-packages/dask/core.py:137: RuntimeWarning: invalid value encountered in greater\n",
      "  return func(*args2)\n"
     ]
    },
    {
     "name": "stdout",
     "output_type": "stream",
     "text": [
      "Hovmoller output saved as:  /global/cscratch1/sd/crjones/ECP/e3sm/statstb_ccs3e4/mcs_rainhov_200208.nc\n",
      "2003 03\n",
      "/global/cscratch1/sd/crjones/ECP/e3sm/statstb_ccs3e4/mcs_rainhov_200303.nc\n",
      "Finished reading input files.\n"
     ]
    },
    {
     "name": "stderr",
     "output_type": "stream",
     "text": [
      "/global/homes/c/crjones/.conda/envs/spe3sm_env/lib/python3.7/site-packages/dask/core.py:137: RuntimeWarning: invalid value encountered in greater\n",
      "  return func(*args2)\n"
     ]
    },
    {
     "name": "stdout",
     "output_type": "stream",
     "text": [
      "Hovmoller output saved as:  /global/cscratch1/sd/crjones/ECP/e3sm/statstb_ccs3e4/mcs_rainhov_200303.nc\n",
      "2003 04\n",
      "/global/cscratch1/sd/crjones/ECP/e3sm/statstb_ccs3e4/mcs_rainhov_200304.nc\n",
      "Finished reading input files.\n"
     ]
    },
    {
     "name": "stderr",
     "output_type": "stream",
     "text": [
      "/global/homes/c/crjones/.conda/envs/spe3sm_env/lib/python3.7/site-packages/dask/core.py:137: RuntimeWarning: invalid value encountered in greater\n",
      "  return func(*args2)\n"
     ]
    },
    {
     "name": "stdout",
     "output_type": "stream",
     "text": [
      "Hovmoller output saved as:  /global/cscratch1/sd/crjones/ECP/e3sm/statstb_ccs3e4/mcs_rainhov_200304.nc\n",
      "2003 05\n",
      "/global/cscratch1/sd/crjones/ECP/e3sm/statstb_ccs3e4/mcs_rainhov_200305.nc\n",
      "Finished reading input files.\n"
     ]
    },
    {
     "name": "stderr",
     "output_type": "stream",
     "text": [
      "/global/homes/c/crjones/.conda/envs/spe3sm_env/lib/python3.7/site-packages/dask/core.py:137: RuntimeWarning: invalid value encountered in greater\n",
      "  return func(*args2)\n"
     ]
    },
    {
     "name": "stdout",
     "output_type": "stream",
     "text": [
      "Hovmoller output saved as:  /global/cscratch1/sd/crjones/ECP/e3sm/statstb_ccs3e4/mcs_rainhov_200305.nc\n",
      "2003 06\n",
      "/global/cscratch1/sd/crjones/ECP/e3sm/statstb_ccs3e4/mcs_rainhov_200306.nc\n",
      "Finished reading input files.\n"
     ]
    },
    {
     "name": "stderr",
     "output_type": "stream",
     "text": [
      "/global/homes/c/crjones/.conda/envs/spe3sm_env/lib/python3.7/site-packages/dask/core.py:137: RuntimeWarning: invalid value encountered in greater\n",
      "  return func(*args2)\n"
     ]
    },
    {
     "name": "stdout",
     "output_type": "stream",
     "text": [
      "Hovmoller output saved as:  /global/cscratch1/sd/crjones/ECP/e3sm/statstb_ccs3e4/mcs_rainhov_200306.nc\n",
      "2003 07\n",
      "/global/cscratch1/sd/crjones/ECP/e3sm/statstb_ccs3e4/mcs_rainhov_200307.nc\n",
      "Finished reading input files.\n"
     ]
    },
    {
     "name": "stderr",
     "output_type": "stream",
     "text": [
      "/global/homes/c/crjones/.conda/envs/spe3sm_env/lib/python3.7/site-packages/dask/core.py:137: RuntimeWarning: invalid value encountered in greater\n",
      "  return func(*args2)\n"
     ]
    },
    {
     "name": "stdout",
     "output_type": "stream",
     "text": [
      "Hovmoller output saved as:  /global/cscratch1/sd/crjones/ECP/e3sm/statstb_ccs3e4/mcs_rainhov_200307.nc\n",
      "2003 08\n",
      "/global/cscratch1/sd/crjones/ECP/e3sm/statstb_ccs3e4/mcs_rainhov_200308.nc\n",
      "Finished reading input files.\n"
     ]
    },
    {
     "name": "stderr",
     "output_type": "stream",
     "text": [
      "/global/homes/c/crjones/.conda/envs/spe3sm_env/lib/python3.7/site-packages/dask/core.py:137: RuntimeWarning: invalid value encountered in greater\n",
      "  return func(*args2)\n"
     ]
    }
   ],
   "source": [
    "for year, month in itertools.product(years, months):\n",
    "    print(year, month)\n",
    "    mcs_dir = f'{root_dir}mcstracking{test_suff}/{year}0301_{year}1031'\n",
    "    mcs_files = sorted(glob(f'{mcs_dir}/mcstrack_{year}{month}??_????.nc'))\n",
    "    hov_outfile = f'{out_dir}mcs_rainhov_{year}{month}.nc'\n",
    "    print(hov_outfile)\n",
    "    if not do_overwrite and os.path.isfile(hov_outfile):\n",
    "        print('skipping because output already exists')\n",
    "        continue\n",
    "    # Read data\n",
    "    ds = xr.open_mfdataset(mcs_files, concat_dim='time', drop_variables=['numclouds','tb','cloudnumber'])\n",
    "    print('Finished reading input files.')\n",
    "    \n",
    "    # Hovmoller calculation ...\n",
    "    is_precipitating_mcs = (ds.pcptracknumber > 0) & (ds.precipitation >= 0)\n",
    "    mcs_precip = ds['precipitation'].where(is_precipitating_mcs, 0).copy()  # nans replaced with zeros\n",
    "\n",
    "    # Select a latitude band and time period where both simulation exist\n",
    "    mcs_precip_hov = mcs_precip.sel(lat=slice(startlat, endlat)).mean(dim='lat').load()\n",
    "    tot_precip_hov = ds['precipitation'].where(ds.precipitation >= 0).sel(lat=slice(startlat, endlat)).mean(dim='lat').load()\n",
    "    \n",
    "    dshov = xr.Dataset({'precipitation': tot_precip_hov,\n",
    "                        'mcs_precipitation': mcs_precip_hov},\n",
    "                       attrs={'title': 'MCS precipitation Hovmoller',\n",
    "                              'startlat': startlat,\n",
    "                              'endlat': endlat,\n",
    "                              'startlon': startlon,\n",
    "                              'endlon': endlon,\n",
    "                              'contact':'C. Jones, christopher.jones@pnnl.gov',\n",
    "                              }\n",
    "                      )\n",
    "    # write to file\n",
    "    dshov.to_netcdf(path=hov_outfile, mode='w', format='NETCDF4_CLASSIC', unlimited_dims='time',\n",
    "                    encoding={'lon': {'zlib': True, 'dtype': 'float32'},\n",
    "                              'precipitation': {'zlib': True, 'dtype':'float32'},\n",
    "                              'mcs_precipitation': {'zlib': True, 'dtype': 'float32'}\n",
    "                             }\n",
    "                   )\n",
    "    print('Hovmoller output saved as: ', hov_outfile)"
   ]
  },
  {
   "cell_type": "code",
   "execution_count": 53,
   "metadata": {},
   "outputs": [
    {
     "name": "stdout",
     "output_type": "stream",
     "text": [
      "/global/cscratch1/sd/crjones/ECP/e3sm-mmf/statstb/mcs_rainhov_200103.nc\n"
     ]
    }
   ],
   "source": [
    "year = '2001'\n",
    "month = '03'\n",
    "mcs_dir = f'/global/cscratch1/sd/crjones/ECP/e3sm-mmf/mcstracking/{year}0301_{year}1031'\n",
    "mcs_files = sorted(glob(f'{mcs_dir}/mcstrack_{year}{month}??_????.nc'))\n",
    "# print(*mcs_files, sep='\\n')   # everything here checks out okay\n",
    "hov_outfile = f'{out_dir}mcs_rainhov_{year}{month}.nc'\n",
    "print(hov_outfile)\n",
    "# os.makedirs(outdir, exist_ok=True)"
   ]
  },
  {
   "cell_type": "code",
   "execution_count": 19,
   "metadata": {},
   "outputs": [
    {
     "name": "stdout",
     "output_type": "stream",
     "text": [
      "Finish reading input files.\n"
     ]
    }
   ],
   "source": [
    "\n",
    "# Read data\n",
    "ds = xr.open_mfdataset(mcs_files, concat_dim='time', drop_variables=['numclouds','tb','cloudnumber'])\n",
    "print('Finish reading input files.')"
   ]
  },
  {
   "cell_type": "code",
   "execution_count": 46,
   "metadata": {},
   "outputs": [],
   "source": [
    "# Hovmoller calculation is more straightforward ...\n",
    "is_precipitating_mcs = (ds.pcptracknumber > 0) & (ds.precipitation >= 0)\n",
    "mcs_precip = ds['precipitation'].where(is_precipitating_mcs, 0).copy()  # nans replaced with zeros\n",
    "\n",
    "# Select a latitude band and time period where both simulation exist\n",
    "mcs_precip_hov = mcs_precip.sel(lat=slice(startlat, endlat)).mean(dim='lat').load()\n",
    "tot_precip_hov = ds['precipitation'].where(ds.precipitation >= 0).sel(lat=slice(startlat, endlat)).mean(dim='lat').load()"
   ]
  },
  {
   "cell_type": "code",
   "execution_count": 51,
   "metadata": {},
   "outputs": [
    {
     "data": {
      "text/plain": [
       "<xarray.Dataset>\n",
       "Dimensions:            (lon: 320, time: 744)\n",
       "Coordinates:\n",
       "  * lon                (lon) float32 220.125 220.375 220.625 ... 299.625 299.875\n",
       "  * time               (time) datetime64[ns] 2001-03-01 ... 2001-03-31T23:00:00\n",
       "Data variables:\n",
       "    precipitation      (time, lon) float32 0.0065801237 ... 0.0017657485\n",
       "    mcs_precipitation  (time, lon) float32 0.0 0.0 0.0 0.0 ... 0.0 0.0 0.0 0.0\n",
       "Attributes:\n",
       "    title:     MCS precipitation Hovmoller\n",
       "    startlat:  31.0\n",
       "    endlat:    48.0\n",
       "    startlon:  -110.0\n",
       "    endlon:    -80.0\n",
       "    contact:   C. Jones, christopher.jones@pnnl.gov"
      ]
     },
     "execution_count": 51,
     "metadata": {},
     "output_type": "execute_result"
    }
   ],
   "source": [
    "dshov = xr.Dataset({'precipitation': tot_precip_hov,\n",
    "                    'mcs_precipitation': mcs_precip_hov},\n",
    "                    attrs={'title': 'MCS precipitation Hovmoller',\n",
    "                           'startlat': startlat,\n",
    "                           'endlat': endlat,\n",
    "                           'startlon': startlon,\n",
    "                           'endlon': endlon,\n",
    "                           'contact':'C. Jones, christopher.jones@pnnl.gov'\n",
    "                          }\n",
    "                  )\n",
    "dshov"
   ]
  },
  {
   "cell_type": "code",
   "execution_count": 58,
   "metadata": {},
   "outputs": [
    {
     "name": "stdout",
     "output_type": "stream",
     "text": [
      "Hovmoller output saved as:  /global/cscratch1/sd/crjones/ECP/e3sm-mmf/statstb/mcs_rainhov_200103.nc\n"
     ]
    }
   ],
   "source": [
    "# write to file\n",
    "dshov.to_netcdf(path=hov_outfile, mode='w', format='NETCDF4_CLASSIC', unlimited_dims='time',\n",
    "                encoding={'lon': {'zlib': True, 'dtype': 'float32'},\n",
    "                          'precipitation': {'zlib': True, 'dtype':'float32'},\n",
    "                          'mcs_precipitation': {'zlib': True, 'dtype': 'float32'}\n",
    "                         }\n",
    "               )\n",
    "print('Hovmoller output saved as: ', hov_outfile)"
   ]
  },
  {
   "cell_type": "code",
   "execution_count": 33,
   "metadata": {},
   "outputs": [
    {
     "name": "stderr",
     "output_type": "stream",
     "text": [
      "/global/homes/c/crjones/.conda/envs/spe3sm_env/lib/python3.7/site-packages/dask/compatibility.py:93: RuntimeWarning: All-NaN slice encountered\n",
      "  return func(*args, **kwargs)\n",
      "/global/homes/c/crjones/.conda/envs/spe3sm_env/lib/python3.7/site-packages/toolz/functoolz.py:468: RuntimeWarning: All-NaN slice encountered\n",
      "  ret = f(ret)\n"
     ]
    }
   ],
   "source": [
    "# Find the min/max track number\n",
    "mintracknum = ds.pcptracknumber.min().values.item()\n",
    "maxtracknum = ds.pcptracknumber.max().values.item()\n",
    "# Some months has 0 MCS, in which case a NAN is returned\n",
    "# In that case set the min/max track number to 0\n",
    "if np.isnan(mintracknum) == True:\n",
    "    mintracknum = 0\n",
    "    maxtracknum = 0\n",
    "else:\n",
    "    mintracknum = int(mintracknum)\n",
    "    maxtracknum = int(maxtracknum)"
   ]
  },
  {
   "cell_type": "code",
   "execution_count": 38,
   "metadata": {},
   "outputs": [],
   "source": [
    "num_mcs_map = np.zeros((len(ds.lat), len(ds.lon)), dtype='int')"
   ]
  },
  {
   "cell_type": "code",
   "execution_count": 41,
   "metadata": {},
   "outputs": [
    {
     "name": "stdout",
     "output_type": "stream",
     "text": [
      "1\n",
      "1 1\n",
      "2\n",
      "2 1\n",
      "3\n",
      "3 2\n",
      "4\n",
      "4 2\n",
      "5\n",
      "5 2\n",
      "6\n",
      "6 2\n",
      "7\n",
      "7 3\n",
      "8\n",
      "8 3\n",
      "9\n",
      "9 4\n",
      "10\n",
      "10 4\n",
      "11\n",
      "11 4\n",
      "12\n",
      "12 5\n",
      "13\n",
      "13 5\n",
      "14\n",
      "14 5\n",
      "15\n",
      "15 5\n",
      "16\n",
      "16 5\n",
      "17\n",
      "17 5\n",
      "18\n",
      "18 6\n",
      "19\n",
      "19 6\n",
      "20\n",
      "20 6\n",
      "21\n",
      "21 6\n",
      "22\n",
      "22 6\n",
      "23\n",
      "23 6\n",
      "24\n",
      "24 7\n",
      "25\n",
      "25 7\n",
      "26\n",
      "26 7\n",
      "27\n",
      "27 7\n",
      "28\n",
      "28 7\n",
      "29\n",
      "29 8\n",
      "30\n",
      "30 8\n",
      "31\n",
      "31 8\n",
      "32\n",
      "32 8\n"
     ]
    }
   ],
   "source": [
    "# Create an array to store number of MCSs on a map\n",
    "num_mcs_map = np.zeros((len(ds.lat), len(ds.lon)), dtype='int')\n",
    "for itrack in range(mintracknum, maxtracknum + 1):\n",
    "    # print(itrack)\n",
    "    # Locate the same track number across time, sum over time to get the swath,\n",
    "    # turn the swath to 1 (true/false), then sum on the map\n",
    "    num_mcs_map += ((ds.pcptracknumber.where(ds.pcptracknumber == itrack).sum(dim='time')) > 0).values\n",
    "    print(itrack, np.max(num_mcs_map))"
   ]
  },
  {
   "cell_type": "code",
   "execution_count": 20,
   "metadata": {},
   "outputs": [
    {
     "data": {
      "text/plain": [
       "<xarray.Dataset>\n",
       "Dimensions:               (lat: 120, lon: 320, time: 744)\n",
       "Coordinates:\n",
       "  * lon                   (lon) float32 220.125 220.375 ... 299.625 299.875\n",
       "  * lat                   (lat) float32 20.125 20.375 20.625 ... 49.625 49.875\n",
       "  * time                  (time) datetime64[ns] 2001-03-01 ... 2001-03-31T23:00:00\n",
       "Data variables:\n",
       "    base_time             (time) datetime64[ns] dask.array<shape=(744,), chunksize=(1,)>\n",
       "    julian_day            (time) float64 dask.array<shape=(744,), chunksize=(1,)>\n",
       "    longitude             (time, lat, lon) float32 dask.array<shape=(744, 120, 320), chunksize=(1, 120, 320)>\n",
       "    latitude              (time, lat, lon) float32 dask.array<shape=(744, 120, 320), chunksize=(1, 120, 320)>\n",
       "    precipitation         (time, lat, lon) float32 dask.array<shape=(744, 120, 320), chunksize=(1, 120, 320)>\n",
       "    cloudtype             (time, lat, lon) float32 dask.array<shape=(744, 120, 320), chunksize=(1, 120, 320)>\n",
       "    convcold_cloudnumber  (time, lat, lon) float32 dask.array<shape=(744, 120, 320), chunksize=(1, 120, 320)>\n",
       "    cloudtracknumber      (time, lat, lon) float64 dask.array<shape=(744, 120, 320), chunksize=(1, 120, 320)>\n",
       "    pcptracknumber        (time, lat, lon) float64 dask.array<shape=(744, 120, 320), chunksize=(1, 120, 320)>\n",
       "Attributes:\n",
       "    title:       Robust MCS pixel-level tracking final output data\n",
       "    comment1:    cloudtracknumber labels all cold cloud pixels identified as ...\n",
       "    comment2:    tb, precipitation are full fields, use cloudtracknumber, pcp...\n",
       "    startdate:   20010301\n",
       "    enddate:     20011031\n",
       "    contact:     Zhe Feng: zhe.feng@pnnl.gov\n",
       "    created_on:  Tue Apr 16 09:10:04 2019"
      ]
     },
     "execution_count": 20,
     "metadata": {},
     "output_type": "execute_result"
    }
   ],
   "source": [
    "ds"
   ]
  },
  {
   "cell_type": "code",
   "execution_count": null,
   "metadata": {},
   "outputs": [],
   "source": [
    "\"\"\"\n",
    "This script calculates monthly mean MCS precipitation map and Hovmoller diagram using pixel-level MCS tracking files\n",
    "and saves the monthly output to two separate netCDF files.\n",
    "To run this code:\n",
    "python calc_mpas_mcs_monthly_precipmaphov_single.py year month runname\n",
    "For example:\n",
    "python calc_mpas_mcs_monthly_precipmaphov_single.py 2010 5 0.25deg_MCS-EUS\n",
    "\"\"\"\n",
    "import numpy as np\n",
    "import glob, sys, os\n",
    "import xarray as xr\n",
    "import time, datetime, calendar, pytz\n",
    "\n",
    "__author__ = \"Zhe Feng, zhe.feng@pnnl.gov\"\n",
    "__copyright__ = \"Zhe Feng, zhe.feng@pnnl.gov\"\n",
    "\n",
    "# Get input from command line\n",
    "year = (sys.argv[1])\n",
    "month = (sys.argv[2]).zfill(2)\n",
    "runname = (sys.argv[3])\n",
    "#exp = sys.argv[4]\n",
    "#year = '2001'\n",
    "#month = '05'\n",
    "#runname = '0.5deg_MCS-EUS'\n",
    "exp = ''\n",
    "\n",
    "rootdir = f'/global/cscratch1/sd/feng045/FACETS/mpas_production/{runname}/'\n",
    "mcsdir = f'{rootdir}{year}/mcstracking_testno10mm/'\n",
    "outdir = f'{rootdir}{year}/stats{exp}_testno10mm/'\n",
    "#mcsdir = f'{rootdir}{year}/mcstracking/'\n",
    "#outdir = f'{rootdir}{year}/stats{exp}/'\n",
    "mcsfiles = sorted(glob.glob(f'{mcsdir}mcstrack_{year}{month}??_????.nc'))\n",
    "print(mcsdir)\n",
    "print(year, month)\n",
    "print('Number of files: ', len(mcsfiles))\n",
    "\n",
    "map_outfile = f'{outdir}mcs_rainmap_{year}{month}.nc'\n",
    "hov_outfile = f'{outdir}mcs_rainhov_{year}{month}.nc'\n",
    "os.makedirs(outdir, exist_ok=True)\n",
    "\n",
    "# Hovmoller domain\n",
    "startlat = 31.0\n",
    "endlat = 48.0\n",
    "startlon = -110.0\n",
    "endlon = -80.0\n",
    "\n",
    "\n",
    "# Read data\n",
    "ds = xr.open_mfdataset(mcsfiles, concat_dim='time', drop_variables=['numclouds','tb','cloudnumber'])\n",
    "print('Finish reading input files.')\n",
    "# ds.load()\n",
    "\n",
    "ntimes = ds.dims['time']\n",
    "\n",
    "# Create an array to store number of MCSs on a map\n",
    "nmcs_map = np.full((len(ds.lat), len(ds.lon)), 0)\n",
    "\n",
    "# Find the min/max track number\n",
    "mintracknum = ds.pcptracknumber.min().values.item()\n",
    "maxtracknum = ds.pcptracknumber.max().values.item()\n",
    "# Some months has 0 MCS, in which case a NAN is returned\n",
    "# In that case set the min/max track number to 0\n",
    "if np.isnan(mintracknum) == True:\n",
    "    mintracknum = 0\n",
    "    maxtracknum = 0\n",
    "else:\n",
    "    mintracknum = int(mintracknum)\n",
    "    maxtracknum = int(maxtracknum)\n",
    "\n",
    "# Loop over each track number\n",
    "for itrack in range(mintracknum, maxtracknum+1):\n",
    "#     print(itrack)\n",
    "    # Locate the same track number across time, sum over time to get the swath,\n",
    "    # turn the swath to 1 (true/false), then sum on the map\n",
    "    nmcs_map += ((ds.pcptracknumber.where(ds.pcptracknumber == itrack).sum(dim='time')) > 0).values\n",
    "\n",
    "\n",
    "# Sum MCS precipitation over time, use cloudtracknumber > 0 as mask\n",
    "mcsprecip = ds['precipitation'].where(ds.cloudtracknumber > 0).sum(dim='time')\n",
    "\n",
    "# Sum total precipitation over time\n",
    "totprecip = ds['precipitation'].sum(dim='time')\n",
    "\n",
    "\n",
    "# Convert all MCS track number to 1 for summation purpose\n",
    "mcspcpmask = ds.pcptracknumber.values\n",
    "mcspcpmask[mcspcpmask > 0] = 1\n",
    "\n",
    "# Convert numpy array to DataArray\n",
    "mcspcpmask = xr.DataArray(mcspcpmask, coords={'time':ds.time, 'lat':ds.lat, 'lon':ds.lon}, dims=['time','lat','lon'])\n",
    "\n",
    "# Sum MCS PF counts overtime to get number of hours\n",
    "mcspcpct = mcspcpmask.sum(dim='time')\n",
    "\n",
    "# Compute Epoch Time for the month\n",
    "months = np.zeros(1, dtype=int)\n",
    "months[0] = calendar.timegm(datetime.datetime(int(year), int(month), 1, 0, 0, 0, tzinfo=pytz.UTC).timetuple())\n",
    "\n",
    "# Define xarray dataset for Map\n",
    "dsmap = xr.Dataset({'precipitation': (['time', 'lat', 'lon'], totprecip.expand_dims('time', axis=0)), \\\n",
    "                    'mcs_precipitation': (['time', 'lat', 'lon'], mcsprecip.expand_dims('time', axis=0)), \\\n",
    "                    'mcs_precipitation_count': (['time', 'lat', 'lon'], mcspcpct.expand_dims('time', axis=0)), \\\n",
    "                    'mcs_number':(['time', 'lat', 'lon'], np.expand_dims(nmcs_map, axis=0)), \\\n",
    "                    'ntimes': (['time'], xr.DataArray(ntimes).expand_dims('time', axis=0))}, \\\n",
    "                    coords={'time': (['time'], months), \\\n",
    "                            'lat': (['lat'], ds.lat), \\\n",
    "                            'lon': (['lon'], ds.lon)}, \\\n",
    "                    attrs={'title': 'MCS precipitation accumulation', \\\n",
    "                           'contact':'Zhe Feng, zhe.feng@pnnl.gov', \\\n",
    "                           'created_on':time.ctime(time.time())})\n",
    "\n",
    "dsmap.time.attrs['long_name'] = 'Epoch Time (since 1970-01-01T00:00:00)'\n",
    "dsmap.time.attrs['units'] = 'Seconds since 1970-1-1 0:00:00 0:00'\n",
    "\n",
    "dsmap.lon.attrs['long_name'] = 'Longitude'\n",
    "dsmap.lon.attrs['units'] = 'degree'\n",
    "\n",
    "dsmap.lat.attrs['long_name'] = 'Latitude'\n",
    "dsmap.lat.attrs['units'] = 'degree'\n",
    "\n",
    "dsmap.ntimes.attrs['long_name'] = 'Number of hours in the month'\n",
    "dsmap.ntimes.attrs['units'] = 'count'\n",
    "\n",
    "dsmap.precipitation.attrs['long_name'] = 'Total precipitation'\n",
    "dsmap.precipitation.attrs['units'] = 'mm'\n",
    "\n",
    "dsmap.mcs_precipitation.attrs['long_name'] = 'MCS precipitation'\n",
    "dsmap.mcs_precipitation.attrs['units'] = 'mm'\n",
    "\n",
    "dsmap.mcs_precipitation_count.attrs['long_name'] = 'Number of hours MCS precipitation is recorded'\n",
    "dsmap.mcs_precipitation_count.attrs['units'] = 'hour'\n",
    "\n",
    "dsmap.mcs_number.attrs['long_name'] = 'Number of individual MCS passing a grid point'\n",
    "dsmap.mcs_number.attrs['units'] = 'count'\n",
    "\n",
    "fillvalue = np.nan\n",
    "dsmap.to_netcdf(path=map_outfile, mode='w', format='NETCDF4_CLASSIC', unlimited_dims='time', \\\n",
    "                encoding={'lon':{'zlib':True, 'dtype':'float32'}, \\\n",
    "                          'lat':{'zlib':True, 'dtype':'float32'}, \\\n",
    "                          'precipitation':{'zlib':True, '_FillValue':fillvalue, 'dtype':'float32'}, \\\n",
    "                          'mcs_precipitation':{'zlib':True, '_FillValue':fillvalue, 'dtype':'float32'}, \\\n",
    "                          'mcs_precipitation_count':{'zlib':True, '_FillValue':fillvalue, 'dtype':'float32'}, \\\n",
    "                          'mcs_number':{'zlib':True, '_FillValue':fillvalue, 'dtype':'float32'}, \\\n",
    "                          })\n",
    "print('Map output saved as: ', map_outfile)\n",
    "\n",
    "\n",
    "\n",
    "#####################################################################\n",
    "# This section calculates Hovmoller\n",
    "#####################################################################\n",
    "# Mask out non-MCS precipitation, assign to a tmp array\n",
    "mcspreciptmp = ds['precipitation'].where((ds.pcptracknumber > 0) & (ds.precipitation >= 0)).values\n",
    "# Replace NAN with 0, for averaging Hovmoller purpose\n",
    "mcspreciptmp[np.isnan(mcspreciptmp)] = 0\n",
    "\n",
    "# Convert numpy array to DataArray\n",
    "mcspcp = xr.DataArray(mcspreciptmp, coords={'time':ds.time, 'lat':ds.lat, 'lon':ds.lon}, dims=['time','lat','lon'])\n",
    "\n",
    "# Select a latitude band and time period where both simulation exist\n",
    "mcspreciphov = mcspcp.sel(lat=slice(startlat, endlat)).mean(dim='lat')\n",
    "totpreciphov = ds['precipitation'].where(ds.precipitation >= 0).sel(lat=slice(startlat, endlat)).mean(dim='lat')\n",
    "\n",
    "# Convert xarray decoded time back to Epoch Time in seconds\n",
    "basetime = np.array([tt.tolist()/1e9 for tt in ds.time.values])\n",
    "\n",
    "# Define xarray dataset for Hovmoller\n",
    "print('Writing Hovmoller to netCDF file ...')\n",
    "dshov = xr.Dataset({'precipitation': (['time', 'lon'], totpreciphov), \\\n",
    "                    'mcs_precipitation': (['time', 'lon'], mcspreciphov), \\\n",
    "                    }, \\\n",
    "                    coords={'lon': (['lon'], ds.lon), \\\n",
    "                            'time': (['time'], basetime)}, \\\n",
    "                    attrs={'title': 'MCS precipitation Hovmoller', \\\n",
    "                           'startlat':startlat, \\\n",
    "                           'endlat':endlat, \\\n",
    "                           'startlon':startlon, \\\n",
    "                           'endlon':endlon, \\\n",
    "                           'contact':'Zhe Feng, zhe.feng@pnnl.gov', \\\n",
    "                           'created_on':time.ctime(time.time())})\n",
    "\n",
    "dshov.lon.attrs['long_name'] = 'Longitude'\n",
    "dshov.lon.attrs['units'] = 'degree'\n",
    "\n",
    "dshov.time.attrs['long_name'] = 'Epoch Time (since 1970-01-01T00:00:00)'\n",
    "dshov.time.attrs['units'] = 'seconds since 1970-01-01T00:00:00'\n",
    "\n",
    "dshov.precipitation.attrs['long_name'] = 'Total precipitation'\n",
    "dshov.precipitation.attrs['units'] = 'mm/h'\n",
    "\n",
    "dshov.mcs_precipitation.attrs['long_name'] = 'MCS precipitation from regridding (Control)'\n",
    "dshov.mcs_precipitation.attrs['units'] = 'mm/h'\n",
    "\n",
    "dshov.to_netcdf(path=hov_outfile, mode='w', format='NETCDF4_CLASSIC', unlimited_dims='time', \\\n",
    "                encoding={'time': {'zlib':True, 'dtype':'int32'}, \\\n",
    "                          'lon':{'zlib':True, 'dtype':'float32'}, \\\n",
    "                          'precipitation':{'zlib':True, 'dtype':'float32'}, \\\n",
    "                          'mcs_precipitation':{'zlib':True, 'dtype':'float32'}, \\\n",
    "                         })\n",
    "print('Hovmoller output saved as: ', hov_outfile)\n",
    "\n",
    "\n"
   ]
  }
 ],
 "metadata": {
  "kernelspec": {
   "display_name": "spe3sm-jupyter",
   "language": "python",
   "name": "spe3sm-jupyter"
  },
  "language_info": {
   "codemirror_mode": {
    "name": "ipython",
    "version": 3
   },
   "file_extension": ".py",
   "mimetype": "text/x-python",
   "name": "python",
   "nbconvert_exporter": "python",
   "pygments_lexer": "ipython3",
   "version": "3.7.1"
  }
 },
 "nbformat": 4,
 "nbformat_minor": 4
}
